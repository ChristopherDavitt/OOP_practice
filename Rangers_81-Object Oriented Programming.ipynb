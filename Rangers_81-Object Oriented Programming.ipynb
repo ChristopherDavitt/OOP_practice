{
 "cells": [
  {
   "cell_type": "markdown",
   "metadata": {},
   "source": [
    "# Object-Oriented-Programming (OOP)"
   ]
  },
  {
   "cell_type": "markdown",
   "metadata": {},
   "source": [
    "## Tasks Today:\n",
    "\n",
    "   \n",
    "\n",
    "1) <b>Creating a Class (Initializing/Declaring)</b> <br>\n",
    "2) <b>Using a Class (Instantiating)</b> <br>\n",
    " &nbsp;&nbsp;&nbsp;&nbsp; a) Creating One Instance <br>\n",
    " &nbsp;&nbsp;&nbsp;&nbsp; b) Creating Multiple Instances <br>\n",
    " &nbsp;&nbsp;&nbsp;&nbsp; c) In-Class Exercise #1 - Create a Class 'Car' and instantiate three different makes of cars <br>\n",
    "3) <b>The \\__init\\__() Method</b> <br>\n",
    " &nbsp;&nbsp;&nbsp;&nbsp; a) The 'self' Attribute <br>\n",
    "4) <b>Class Attributes</b> <br>\n",
    " &nbsp;&nbsp;&nbsp;&nbsp; a) Initializing Attributes <br>\n",
    " &nbsp;&nbsp;&nbsp;&nbsp; b) Setting an Attribute Outside of the \\__init\\__() Method <br>\n",
    " &nbsp;&nbsp;&nbsp;&nbsp; c) Setting Defaults for Attributes <br>\n",
    " &nbsp;&nbsp;&nbsp;&nbsp; d) Accessing Class Attributes <br>\n",
    " &nbsp;&nbsp;&nbsp;&nbsp; e) Changing Class Attributes <br>\n",
    " &nbsp;&nbsp;&nbsp;&nbsp; f) In-Class Exercise #2 - Add a color and wheels attribute to your 'Car' class <br>\n",
    "5) <b>Class Methods</b> <br>\n",
    " &nbsp;&nbsp;&nbsp;&nbsp; a) Creating <br>\n",
    " &nbsp;&nbsp;&nbsp;&nbsp; b) Calling <br>\n",
    " &nbsp;&nbsp;&nbsp;&nbsp; c) Modifying an Attribute's Value Through a Method <br>\n",
    " &nbsp;&nbsp;&nbsp;&nbsp; d) Incrementing an Attribute's Value Through a Method <br>\n",
    " &nbsp;&nbsp;&nbsp;&nbsp; e) In-Class Exercise #3 - Add a method that prints the cars color and wheel number, then call them <br>\n",
    "6) <b>Inheritance</b> <br>\n",
    " &nbsp;&nbsp;&nbsp;&nbsp; a) Syntax for Inheriting from a Parent Class <br>\n",
    " &nbsp;&nbsp;&nbsp;&nbsp; b) The \\__init\\__() Method for a Child Class (super()) <br>\n",
    " &nbsp;&nbsp;&nbsp;&nbsp; c) Defining Attributes and Methods for the Child Class <br>\n",
    " &nbsp;&nbsp;&nbsp;&nbsp; d) Method Overriding <br>\n",
    " &nbsp;&nbsp;&nbsp;&nbsp; e) In-Class Exercise #4 - Create a class 'Ford' that inherits from 'Car' class and initialize it as a Blue Ford Explorer with 4 wheels using the super() method <br>\n",
    "7) <b>Classes as Attributes</b> <br>\n",
    "8) <b>Exercises</b> <br>\n",
    " &nbsp;&nbsp;&nbsp;&nbsp; a) Exercise #1 - Turn the shopping cart program from last week into an object-oriented program <br>"
   ]
  },
  {
   "cell_type": "markdown",
   "metadata": {},
   "source": [
    "## Creating a Class (Initializing/Declaring)\n",
    "<p>When creating a class, function, or even a variable you are initializing that object. Initializing and Declaring occur at the same time in Python, whereas in lower level languages you have to declare an object before initializing it. This is the first step in the process of using a class.</p>"
   ]
  },
  {
   "cell_type": "code",
   "execution_count": null,
   "metadata": {},
   "outputs": [],
   "source": [
    "class Car():\n",
    "    wheels = 4\n",
    "    color = 'blue'\n"
   ]
  },
  {
   "cell_type": "markdown",
   "metadata": {},
   "source": [
    "## Using a Class (Instantiating)\n",
    "<p>The process of creating a class is called <i>Instantiating</i>. Each time you create a variable of that type of class, it is referred to as an <i>Instance</i> of that class. This is the second step in the process of using a class.</p>"
   ]
  },
  {
   "cell_type": "markdown",
   "metadata": {},
   "source": [
    "##### Creating One Instance"
   ]
  },
  {
   "cell_type": "code",
   "execution_count": null,
   "metadata": {},
   "outputs": [],
   "source": [
    "ford = Car()\n",
    "mazda = Car()\n",
    "honda = Car()\n"
   ]
  },
  {
   "cell_type": "markdown",
   "metadata": {},
   "source": [
    "##### Creating Multiple Instances"
   ]
  },
  {
   "cell_type": "code",
   "execution_count": null,
   "metadata": {},
   "outputs": [],
   "source": [
    "porsche = Car()\n",
    "print(porsche.color)\n",
    "print(porsche.wheels)"
   ]
  },
  {
   "cell_type": "markdown",
   "metadata": {},
   "source": [
    "##### In-Class Exercise #1 - Create a Class 'Car' and Instantiate three different makes of cars"
   ]
  },
  {
   "cell_type": "code",
   "execution_count": null,
   "metadata": {},
   "outputs": [],
   "source": [
    "# initializing class\n",
    "class Car():\n",
    "    color = 'blue'\n",
    "    wheels = 4\n",
    "    sun_roof = 'yes'\n",
    "    trunk_space = '15 ft^3'\n",
    "\n",
    "# creating an instance\n",
    "honda = Car()\n",
    "toyota = Car()\n",
    "ford = Car()\n",
    "\n",
    "#creating multiple instances\n",
    "print(honda.wheels)\n",
    "print(ford.trunk_space)\n",
    "print(toyota.engine)"
   ]
  },
  {
   "cell_type": "markdown",
   "metadata": {},
   "source": [
    "## The \\__init\\__() Method <br>\n",
    "<p>This method is used in almost every created class, and called only once upon the creation of the class instance. This method will initialize all variables needed for the object.</p>"
   ]
  },
  {
   "cell_type": "code",
   "execution_count": null,
   "metadata": {},
   "outputs": [],
   "source": [
    "class Car():\n",
    "    ENGINE = '4.7L' \n",
    "    def __init__(self, wheels, color):\n",
    "        self.wheels = wheels\n",
    "        self.color = color\n",
    "\n",
    "ford = Car(4, \"red\")\n",
    "print(ford.wheels)\n",
    "print(ford.color)\n",
    "\n",
    "ford.__dict__\n",
    "\n",
    "chevy_lumina = Car(4, 'tuquoise')\n",
    "print(chevy_lumina.color)"
   ]
  },
  {
   "cell_type": "markdown",
   "metadata": {},
   "source": [
    "##### The 'self' Attribute <br>\n",
    "<p>This attribute is required to keep track of specific instance's attributes. Without the self attribute, the program would not know how to reference or keep track of an instance's attributes.</p>"
   ]
  },
  {
   "cell_type": "code",
   "execution_count": null,
   "metadata": {},
   "outputs": [],
   "source": [
    "class Toy():\n",
    "    TYPE = \"pet rock\"\n",
    "    \n",
    "    def __init__(self, name, color, size, texture):\n",
    "        self.name = name\n",
    "        self.color = color\n",
    "        self.size = size\n",
    "        self.texture = texture\n",
    "        \n",
    "pet_rock1 = Toy('Rocco', 'grey', 'large', 'bumpy')\n",
    "print(pet_rock1.name)"
   ]
  },
  {
   "cell_type": "markdown",
   "metadata": {},
   "source": [
    "## Class Attributes <br>\n",
    "<p>While variables are inside of a class, they are referred to as attributes and not variables. When someone says 'attribute' you know they're speaking about a class. Attributes can be initialized through the init method, or outside of it.</p>"
   ]
  },
  {
   "cell_type": "markdown",
   "metadata": {},
   "source": [
    "##### Initializing Attributes"
   ]
  },
  {
   "cell_type": "code",
   "execution_count": null,
   "metadata": {},
   "outputs": [],
   "source": [
    "print(pet_rock1.name)\n",
    "print(pet_rock1.color)\n",
    "print(pet_rock1.texture)\n",
    "print(pet_rock1.size)\n",
    "\n",
    "pet_rock1.__dict__"
   ]
  },
  {
   "cell_type": "markdown",
   "metadata": {},
   "source": [
    "##### Accessing Class Attributes"
   ]
  },
  {
   "cell_type": "code",
   "execution_count": null,
   "metadata": {
    "scrolled": true
   },
   "outputs": [],
   "source": [
    "class Car():\n",
    "    ENGINE = '4.7L' # constane attribute - this does not change\n",
    "    \n",
    "    def __init__(self, wheels, color = 'Blue'):\n",
    "        self.wheels = wheels\n",
    "        self.color = color # default attribute . this can be changed\n",
    "        \n",
    "honda = Car(4, 'red')\n",
    "jeep = Car(4, 'red')\n",
    "print(honda.wheels)\n",
    "print(jeep.color)"
   ]
  },
  {
   "cell_type": "markdown",
   "metadata": {},
   "source": [
    "##### Setting Defaults for Attributes"
   ]
  },
  {
   "cell_type": "code",
   "execution_count": null,
   "metadata": {},
   "outputs": [],
   "source": [
    "# see above"
   ]
  },
  {
   "cell_type": "markdown",
   "metadata": {},
   "source": [
    "##### Changing Class Attributes <br>\n",
    "<p>Keep in mind there are global class attributes and then there are attributes only available to each class instance which won't effect other classes.</p>"
   ]
  },
  {
   "cell_type": "code",
   "execution_count": null,
   "metadata": {},
   "outputs": [],
   "source": [
    "# changing the default attribute\n",
    "print(f\"Before the change: {jeep.color}\")\n",
    "jeep.color = 'Blue'\n",
    "print(f\" \\nAfter Change: {jeep.color}\")\n",
    "\n",
    "print(f\"\\nBefore the change: {jeep.wheels}\")\n",
    "jeep.wheels = 6\n",
    "print(f\" \\nAfter Change: {jeep.wheels}\")"
   ]
  },
  {
   "cell_type": "code",
   "execution_count": null,
   "metadata": {},
   "outputs": [],
   "source": []
  },
  {
   "cell_type": "markdown",
   "metadata": {},
   "source": [
    "##### In-Class Exercise #2 - Add a doors and seats attribute to your 'Car' class then print out two different instances with different doors and seats"
   ]
  },
  {
   "cell_type": "code",
   "execution_count": null,
   "metadata": {},
   "outputs": [],
   "source": [
    "class Car():\n",
    "    ENGINE = '4.7L' # constane attribute - this does not change\n",
    "    \n",
    "    def __init__(self, wheels, color, seats, doors = None):\n",
    "        self.wheels = wheels\n",
    "        self.color = color\n",
    "        if doors == None:\n",
    "            self.doors = 4\n",
    "        self.seats = seats\n",
    "        \n",
    "hyundai_sonata = Car(4, 'silver', 5)\n",
    "acura_mdx = Car(4, 'silver', 7)\n",
    "print(acura_mdx.ENGINE)\n",
    "print(hyundai_sonata.color)\n",
    "\n",
    "print(f\"Before the Change: {hyundai_sonata.seats}\")\n",
    "hyundai_sonata.seats = '5'\n",
    "print(f\" \\nAfter Change: {hyundai_sonata.seats}\")\n",
    "\n",
    "print(f\"\\nBefore the Change Doors: {acura_mdx.doors}\")\n",
    "acura_mdx.doors = '6'\n",
    "print(f\" \\nAfter Change Doors: {acura_mdx.doors}\")"
   ]
  },
  {
   "cell_type": "markdown",
   "metadata": {},
   "source": [
    "## Class Methods <br>\n",
    "<p>While inside of a class, functions are referred to as 'methods'. If you hear someone mention methods, they're speaking about classes. Methods are essentially functions, but only callable on the instances of a class.</p>"
   ]
  },
  {
   "cell_type": "markdown",
   "metadata": {},
   "source": [
    "##### Creating"
   ]
  },
  {
   "cell_type": "code",
   "execution_count": null,
   "metadata": {},
   "outputs": [],
   "source": [
    "class Bus():\n",
    "#     '''\n",
    "#     The bus will have doors, seats, available color, and a bus driver\n",
    "    \n",
    "#     Attributes for the class:\n",
    "#     -doors: expected to be an integer\n",
    "#     -seats: expected to be an integer\n",
    "#     -seats_available: expected to be an integer\n",
    "#     -bus_driver: expected to be a string\n",
    "#     '''\n",
    "    \n",
    "    def __init__(self, doors, seats, seats_available, color, bus_driver):\n",
    "        self.doors = doors\n",
    "        self.seats = seats\n",
    "        self.seats_available = seats_available\n",
    "        self.color = color\n",
    "        self.bus_driver = bus_driver\n",
    "\n",
    "    def load_passengers(self):\n",
    "        if self.seats_available <= 0:\n",
    "            print(\"This bus is full! you can't take any more passengers!\")\n",
    "        else: \n",
    "            passengers = int(input(\"How many passengers are getting on? \"))\n",
    "            self.seats_available -= passengers \n",
    "            print(f\"{passengers} seats have been taken and there are {self.seats_available} seats left on the bus\")\n",
    "\n",
    "    # increment number of seats available\n",
    "    def unload_passengers(self):\n",
    "        if self.seats_available == self.seats:\n",
    "            print(\"There is no one left to get off the bus\")\n",
    "        else:\n",
    "            unload = int(input(\"How many passengers are getting off the bus? \"))\n",
    "            self.seats_available += unload\n",
    "            print(f\"{unload} passengers have gotten off the bus and there are {self.seats_available} seats left:\")\n",
    "\n",
    "    def change_driver(self):\n",
    "        change = input(\"Who is replacing you? \")\n",
    "        self.bus_driver = change\n",
    "        print(f\"The new bus driver is {self.bus_driver.title()}\")\n",
    "\n",
    "    def check_seats(self):\n",
    "        print(self.seats_available)\n",
    "                             \n",
    "big_yellow_bus = Bus(2, 45, 30, 'yellow', 'Jim') \n",
    "\n",
    "            \n",
    "                  "
   ]
  },
  {
   "cell_type": "markdown",
   "metadata": {},
   "source": [
    "##### Calling"
   ]
  },
  {
   "cell_type": "code",
   "execution_count": null,
   "metadata": {},
   "outputs": [],
   "source": [
    "def run():\n",
    "    while True:\n",
    "        response = input(\"what would you like to do? Load/Unload/Change Driver/Check Seats/Quit: \")\n",
    "        if response.lower() == 'quit':\n",
    "            break\n",
    "        elif response.lower() == 'load':\n",
    "            big_yellow_bus.load_passengers()\n",
    "        elif response.lower() == 'unload':\n",
    "            big_yellow_bus.unload_passengers()\n",
    "        elif response.lower() == 'change driver':\n",
    "            big_yellow_bus.change_driver()\n",
    "        elif response.lower() == 'check seats':\n",
    "            big_yellow_bus.check_seats()\n",
    "        else:\n",
    "            print(\"Not a valid command try again\")\n",
    "run()\n",
    "            "
   ]
  },
  {
   "cell_type": "markdown",
   "metadata": {},
   "source": [
    "##### Modifying an Attribute's Value Through a Method"
   ]
  },
  {
   "cell_type": "code",
   "execution_count": null,
   "metadata": {},
   "outputs": [],
   "source": [
    "#see change_driver() method"
   ]
  },
  {
   "cell_type": "markdown",
   "metadata": {},
   "source": [
    "##### Incrementing an Attribute's Value Through a Method"
   ]
  },
  {
   "cell_type": "code",
   "execution_count": null,
   "metadata": {},
   "outputs": [],
   "source": [
    "# see load_passengers() method"
   ]
  },
  {
   "cell_type": "markdown",
   "metadata": {},
   "source": [
    "##### In-Class Exercise #3 - Add a method that takes in three parameters of year, doors and seats and prints out a formatted print statement with make, model, year, seats, and doors"
   ]
  },
  {
   "cell_type": "code",
   "execution_count": null,
   "metadata": {},
   "outputs": [],
   "source": [
    "# Create class with 2 paramters inside of the __init__ which are make and model\n",
    "class Car():\n",
    "    def __init__(self, make, model):\n",
    "        self.make = make\n",
    "        self.model = model\n",
    "    \n",
    "# Inside of the Car class create a method that has 4 parameter in total (self,year,door,seats)\n",
    "    \n",
    "    def carDetails(self, year, doors, seats):\n",
    "        print(f\"This is a {year} {self.make} {self.model} and has {doors} doors and {seats} seats.\")\n",
    "        \n",
    "car1 = Car('Porsche', 'Cayenne')\n",
    "car1.carDetails(2019, 4, 5)\n",
    "        \n",
    "    \n",
    "# Output: This car is from 2019 and is a Ford Expolorer and has 4 doors and 5 seats\n",
    "    \n",
    "    \n",
    "    \n",
    "\n",
    "\n",
    "\n"
   ]
  },
  {
   "cell_type": "markdown",
   "metadata": {},
   "source": [
    "## Inheritance <br>\n",
    "<p>You can create a child-parent relationship between two classes by using inheritance. What this allows you to do is have overriding methods, but also inherit traits from the parent class. Think of it as an actual parent and child, the child will inherit the parent's genes, as will the classes in OOP</p>"
   ]
  },
  {
   "cell_type": "markdown",
   "metadata": {},
   "source": [
    "##### Syntax for Inheriting from a Parent Class"
   ]
  },
  {
   "cell_type": "code",
   "execution_count": null,
   "metadata": {},
   "outputs": [],
   "source": [
    "class Animal():\n",
    "    ACCELERATION = 9.8\n",
    "    \n",
    "    def __init__(self, name, species, legs = 4):\n",
    "        self.name = name\n",
    "        self.species = species\n",
    "        self.legs = legs\n",
    "        \n",
    "    # Generic Parent (animal) Method - - No OverRide\n",
    "    def makeSound(self):\n",
    "        print('moooo')\n",
    "  \n",
    " # Child class\n",
    "class Dog(Animal):\n",
    "    SPEED = 15\n",
    "    \n",
    "    def printInfo(self):\n",
    "        print(f\"The dog runs at {SPEED} mph and accelerates at {ACCELERATION}\")\n",
    "        \n",
    " # GrandChild        \n",
    "class Mut(Dog):\n",
    "    color = 'black & brown'\n",
    "    \n",
    "    # OVerride the Animal Class __init__ method by way of using the Dog class\n",
    "    def __init__(self, name, species, eye_color, legs = 4):\n",
    "        Dog.__init__(self, name, species, legs) # basically repeating the self.--- attributes\n",
    "        self.eye_color = eye_color\n",
    "    \n",
    "    # Override the makeSound method (again from the animal class)\n",
    "    def makeSound(self):\n",
    "        print('Bark Woof ruff ruff')\n",
    "cheetah = Animal('Chester', 'Cheetah')\n",
    "print(cheetah.name)\n",
    "cheetah.makeSound()\n",
    "lassie = Dog('Lassie', 'Dog')\n",
    "print(lassie.SPEED)\n",
    "print(lassie.ACCELERATION)\n",
    "print(lassie.name)\n",
    "eyo = Mut('Eyo', 'Dog', 'brown')\n",
    "print(eyo.name)\n",
    "eyo.makeSound()    "
   ]
  },
  {
   "cell_type": "markdown",
   "metadata": {},
   "source": [
    "##### The \\__init\\__() Method for a Child Class - super()"
   ]
  },
  {
   "cell_type": "code",
   "execution_count": null,
   "metadata": {
    "scrolled": true
   },
   "outputs": [],
   "source": [
    "class Mut(Dog):\n",
    "    color = 'black & brown'\n",
    "    \n",
    "    # OVerride the Animal Class __init__ method by way of using the Dog class\n",
    "    def __init__(self, name, species, eye_color, legs = 4):\n",
    "        super().__init__(name, species, legs) # again just another way to copy the self.--- atributes\n",
    "        self.eye_color = eye_color\n",
    "    \n",
    "    # Override the makeSound method (again from the animal class)\n",
    "    def makeSound(self):\n",
    "        print('wooooof')\n",
    "        \n",
    "argos = Mut('Argos', 'Dog', 'Brown')\n",
    "argos.makeSound()"
   ]
  },
  {
   "cell_type": "markdown",
   "metadata": {},
   "source": [
    "##### Defining Attributes and Methods for the Child Class"
   ]
  },
  {
   "cell_type": "code",
   "execution_count": null,
   "metadata": {},
   "outputs": [],
   "source": [
    "# See Above"
   ]
  },
  {
   "cell_type": "markdown",
   "metadata": {},
   "source": [
    "##### Method Overriding"
   ]
  },
  {
   "cell_type": "code",
   "execution_count": null,
   "metadata": {},
   "outputs": [],
   "source": [
    "# See Above"
   ]
  },
  {
   "cell_type": "markdown",
   "metadata": {},
   "source": [
    "## Classes as Attributes <br>\n",
    "<p>Classes can also be used as attributes within another class. This is useful in situations where you need to keep variables locally stored, instead of globally stored.</p>"
   ]
  },
  {
   "cell_type": "code",
   "execution_count": 1,
   "metadata": {},
   "outputs": [
    {
     "name": "stdout",
     "output_type": "stream",
     "text": [
      "20\n"
     ]
    },
    {
     "data": {
      "text/plain": [
       "'2019 Tesla Model S 20'"
      ]
     },
     "execution_count": 1,
     "metadata": {},
     "output_type": "execute_result"
    }
   ],
   "source": [
    "class Battery():\n",
    "    VOLTZ: 7.8\n",
    "        \n",
    "    def __init__(self, cells):\n",
    "        self.cells = cells\n",
    "        \n",
    "class Car():\n",
    "    def __init__(self, year, make, model, battery):\n",
    "        self.year = year\n",
    "        self.make = make\n",
    "        self.model = model\n",
    "        self.battery = battery\n",
    "    \n",
    "    def printInfo(self):\n",
    "        return f\"{self.year} {self.make} {self.model} {self.battery.cells}\"\n",
    "    \n",
    "battery = Battery(20)\n",
    "\n",
    "tesla_model_S_plaid = Car(2019, 'Tesla', 'Model S', battery)\n",
    "\n",
    "print(tesla_model_S_plaid.battery.cells)\n",
    "tesla_model_S_plaid.printInfo()"
   ]
  },
  {
   "cell_type": "markdown",
   "metadata": {},
   "source": [
    "# Exercises"
   ]
  },
  {
   "cell_type": "markdown",
   "metadata": {},
   "source": [
    "### Create a class that has at least 3 attributes. One must be a list or a dictionary.The class must also have 3 methods, one that adds to the list or dictionary, one that alters an attributes value, and one that does whatever you want it to do.###\n"
   ]
  },
  {
   "cell_type": "code",
   "execution_count": null,
   "metadata": {},
   "outputs": [],
   "source": [
    "class Super_hero():\n",
    "    \n",
    "    def __init__(self, name, secret_identity, weakness):\n",
    "        self.name = name\n",
    "        self.powers = []\n",
    "        self.secret_identity = secret_identity\n",
    "        self.weakness = weakness\n",
    "        \n",
    "    def basicInfo(self):\n",
    "        print(f\"{self.name}'s secret identity is {self.secret_identity}.  His weakness is {self.weakness}.\")\n",
    "        if len(self.powers) > 0: \n",
    "            print(f\"{self.name}'s super powers are: \")\n",
    "            for power in self.powers: \n",
    "                print(power.title())\n",
    "              \n",
    "    def add_power(self):\n",
    "        if len(self.powers) <= 3:\n",
    "            new_power = input(\"Enter a new superpower (character can't have more than 3): \")\n",
    "            self.powers.append(new_power)\n",
    "        else: \n",
    "            print(f\"{self.name} already has 3 super powers and cannot have more.\")        \n",
    "        \n",
    "    def view_powers(self):\n",
    "        print(self.powers)\n",
    "        \n",
    "    def change_power(self):\n",
    "        power_to_change = input(\"Enter power to change: \")\n",
    "        if power_to_change in self.powers:\n",
    "            self.powers.remove(power_to_change)\n",
    "            replacement_power = input(\"Enter replacement power: \")\n",
    "            self.powers.append(replacement_power)\n",
    "\n",
    "character1 = Super_hero('Super office worker guy', 'Jim', 'The Stapler')\n",
    "\n",
    "character1.basicInfo()\n",
    "character1.add_power()\n",
    "character1.basicInfo()\n",
    "\n",
    "        \n",
    "    "
   ]
  },
  {
   "cell_type": "markdown",
   "metadata": {},
   "source": [
    "### Exercise 1 - Turn the shopping cart program from yesterday into an object-oriented program\n",
    "\n",
    "The comments in the cell below are there as a guide for thinking about the problem. However, if you feel a different way is best for you and your own thought process, please do what feels best for you by all means."
   ]
  },
  {
   "cell_type": "code",
   "execution_count": 1,
   "metadata": {},
   "outputs": [],
   "source": [
    "# Create a class called cart that retains items and has methods to add, remove, and show\n",
    "\n",
    "class Cart():\n",
    "    \n",
    "    def __init__(self, quantity, grocery_store = 'Wegmans'):\n",
    "        self.quantity = quantity\n",
    "        self.grocery_store = grocery_store\n",
    "        self.item = []\n",
    "    \n",
    "    def addItem(self):\n",
    "        added_item = input(\"What would you like to add to the list? \")\n",
    "        print(f\"{added_item} was added to the list!\")\n",
    "        self.item.append(added_item)\n",
    "        self.quantity += 1\n",
    "    \n",
    "    def removeItem(self):\n",
    "        removed_item = input(\"What would you like to remove from the list? \")\n",
    "        if removed_item in self.item:\n",
    "            self.item.remove(removed_item)\n",
    "            self.quantity -= 1\n",
    "        else:\n",
    "            print(\"Sorry that item is not on the list. Try checking the spelling\")\n",
    "        \n",
    "    def checkList(self):\n",
    "        print(f\"Shopping Cart has {self.quantity} items:\\n\")\n",
    "        for food in self.item:\n",
    "            print(food.title())\n",
    "        \n",
    "    def changeStore(self):\n",
    "        new_store = input(\"What store do you want to go to? \")\n",
    "        self.store = new_store.title()\n",
    "shopping_cart = Cart(0)    \n",
    "    "
   ]
  },
  {
   "cell_type": "code",
   "execution_count": 3,
   "metadata": {},
   "outputs": [
    {
     "name": "stdout",
     "output_type": "stream",
     "text": [
      "What would you like to do? [add item]/[remove item]/[change store]/[check list]/[Quit]: add item\n",
      "What would you like to add to the list? potto\n",
      "potto was added to the list!\n",
      "What would you like to do? [add item]/[remove item]/[change store]/[check list]/[Quit]: remove item\n",
      "What would you like to remove from the list? poto\n",
      "Sorry that item is not on the list. Try checking the spelling\n",
      "What would you like to do? [add item]/[remove item]/[change store]/[check list]/[Quit]: remove item\n",
      "What would you like to remove from the list? potto\n",
      "What would you like to do? [add item]/[remove item]/[change store]/[check list]/[Quit]: add item\n",
      "What would you like to add to the list? potato\n",
      "potato was added to the list!\n",
      "What would you like to do? [add item]/[remove item]/[change store]/[check list]/[Quit]: add item\n",
      "What would you like to add to the list? rice\n",
      "rice was added to the list!\n",
      "What would you like to do? [add item]/[remove item]/[change store]/[check list]/[Quit]: quit\n",
      "Shopping Cart has 3 items:\n",
      "\n",
      "Potato\n",
      "Potato\n",
      "Rice\n"
     ]
    }
   ],
   "source": [
    "def runList():\n",
    "    while True:\n",
    "        response = input(\"What would you like to do? [add item]/[remove item]/[change store]/[check list]/[Quit]: \")\n",
    "        if response.lower() == 'quit':\n",
    "            shopping_cart.checkList()\n",
    "            break\n",
    "        elif response.lower() == 'check list':\n",
    "            shopping_cart.checkList()\n",
    "        elif response.lower() == 'remove item':\n",
    "            shopping_cart.removeItem()\n",
    "        elif response.lower() == 'add item':\n",
    "            shopping_cart.addItem()\n",
    "        elif response.lower() == 'change store':\n",
    "            shopping_cart.changeStore()\n",
    "        else:\n",
    "            print(\"Not a valid command try again\")\n",
    "runList()\n",
    "       "
   ]
  },
  {
   "cell_type": "markdown",
   "metadata": {},
   "source": [
    "### Exercise 2 - Write a Python class which has two methods get_String and print_String. get_String accept a string from the user and print_String print the string in upper case"
   ]
  },
  {
   "cell_type": "code",
   "execution_count": 10,
   "metadata": {},
   "outputs": [
    {
     "name": "stdout",
     "output_type": "stream",
     "text": [
      "Put whatever you want here: Yo what uuuuup\n",
      "YO WHAT UUUUUP\n"
     ]
    }
   ],
   "source": [
    "class UppercaseStuff():\n",
    "    def __init__(self):\n",
    "        self.string = ''\n",
    "        \n",
    "    def get_string(self):\n",
    "        new_string = input(\"Put whatever you want here: \")\n",
    "        self.string = new_string\n",
    "        \n",
    "    def print_string(self):\n",
    "        print(self.string.upper())\n",
    "        \n",
    "hello = UppercaseStuff()\n",
    "hello.get_string()\n",
    "hello.print_string()"
   ]
  },
  {
   "cell_type": "code",
   "execution_count": null,
   "metadata": {},
   "outputs": [],
   "source": []
  }
 ],
 "metadata": {
  "kernelspec": {
   "display_name": "Python 3 (ipykernel)",
   "language": "python",
   "name": "python3"
  },
  "language_info": {
   "codemirror_mode": {
    "name": "ipython",
    "version": 3
   },
   "file_extension": ".py",
   "mimetype": "text/x-python",
   "name": "python",
   "nbconvert_exporter": "python",
   "pygments_lexer": "ipython3",
   "version": "3.9.7"
  }
 },
 "nbformat": 4,
 "nbformat_minor": 2
}
